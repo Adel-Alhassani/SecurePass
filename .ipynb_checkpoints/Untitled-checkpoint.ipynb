{
 "cells": [
  {
   "cell_type": "code",
   "execution_count": 6,
   "id": "173db289",
   "metadata": {},
   "outputs": [],
   "source": [
    "import joblib\n",
    "import string\n",
    "\n",
    "# Load the model\n",
    "model = joblib.load('random_forest_model.pkl')"
   ]
  },
  {
   "cell_type": "code",
   "execution_count": 4,
   "id": "4184e970",
   "metadata": {},
   "outputs": [],
   "source": [
    "def count_capital(password):\n",
    "    return sum(1 for char in password if char.isupper())\n",
    "\n",
    "def count_small(password):\n",
    "    return sum(1 for char in password if char.islower())\n",
    "\n",
    "def count_numbers(password):\n",
    "    return sum(1 for char in password if char.isdigit())\n",
    "\n",
    "def count_duplicates(password):\n",
    "    duplicate_count = 0\n",
    "    password = str(password)\n",
    "    password_length = len(password)\n",
    "  \n",
    "    for i in range(password_length):\n",
    "        for j in range(i + 1, password_length):\n",
    "            if password[i] == password[j]:\n",
    "                duplicate_count += 1\n",
    "                break\n",
    "  \n",
    "    return duplicate_count\n",
    "\n",
    "def count_special_ch(password):\n",
    "    special_chars = string.punctuation\n",
    "    return sum(1 for char in password if char in special_chars)\n",
    "    "
   ]
  },
  {
   "cell_type": "code",
   "execution_count": 16,
   "id": "f55621f7",
   "metadata": {},
   "outputs": [
    {
     "name": "stdout",
     "output_type": "stream",
     "text": [
      "Medium\n"
     ]
    }
   ],
   "source": [
    "password = \"f@#__<eDf@21*\"\n",
    "\n",
    "password_features = [[len(password),\n",
    "      count_capital(password),\n",
    "      count_small(password),\n",
    "      count_numbers(password),\n",
    "       count_duplicates(password),\n",
    "      count_special_ch(password)]]\n",
    "\n",
    "pre = model.predict(password_features)\n",
    "if pre == 0:\n",
    "    print(\"Weak\")\n",
    "elif pre == 1:\n",
    "    print(\"Medium\")\n",
    "else:\n",
    "    print(\"Strong\")"
   ]
  },
  {
   "cell_type": "code",
   "execution_count": 1,
   "id": "29b8d1ee",
   "metadata": {},
   "outputs": [
    {
     "data": {
      "text/html": [
       "<div>\n",
       "<style scoped>\n",
       "    .dataframe tbody tr th:only-of-type {\n",
       "        vertical-align: middle;\n",
       "    }\n",
       "\n",
       "    .dataframe tbody tr th {\n",
       "        vertical-align: top;\n",
       "    }\n",
       "\n",
       "    .dataframe thead th {\n",
       "        text-align: right;\n",
       "    }\n",
       "</style>\n",
       "<table border=\"1\" class=\"dataframe\">\n",
       "  <thead>\n",
       "    <tr style=\"text-align: right;\">\n",
       "      <th></th>\n",
       "      <th>password</th>\n",
       "      <th>strength</th>\n",
       "    </tr>\n",
       "  </thead>\n",
       "  <tbody>\n",
       "    <tr>\n",
       "      <th>0</th>\n",
       "      <td>yrtzuab476</td>\n",
       "      <td>1</td>\n",
       "    </tr>\n",
       "    <tr>\n",
       "      <th>1</th>\n",
       "      <td>yEdnN9jc1NgzkkBP</td>\n",
       "      <td>2</td>\n",
       "    </tr>\n",
       "    <tr>\n",
       "      <th>2</th>\n",
       "      <td>sarita99</td>\n",
       "      <td>1</td>\n",
       "    </tr>\n",
       "    <tr>\n",
       "      <th>3</th>\n",
       "      <td>Suramerica2015</td>\n",
       "      <td>2</td>\n",
       "    </tr>\n",
       "    <tr>\n",
       "      <th>4</th>\n",
       "      <td>PPRbMvDIxMQ19TMo</td>\n",
       "      <td>2</td>\n",
       "    </tr>\n",
       "    <tr>\n",
       "      <th>...</th>\n",
       "      <td>...</td>\n",
       "      <td>...</td>\n",
       "    </tr>\n",
       "    <tr>\n",
       "      <th>99995</th>\n",
       "      <td>aulona044</td>\n",
       "      <td>1</td>\n",
       "    </tr>\n",
       "    <tr>\n",
       "      <th>99996</th>\n",
       "      <td>5201314ding</td>\n",
       "      <td>1</td>\n",
       "    </tr>\n",
       "    <tr>\n",
       "      <th>99997</th>\n",
       "      <td>isaac19725</td>\n",
       "      <td>1</td>\n",
       "    </tr>\n",
       "    <tr>\n",
       "      <th>99998</th>\n",
       "      <td>toji25</td>\n",
       "      <td>0</td>\n",
       "    </tr>\n",
       "    <tr>\n",
       "      <th>99999</th>\n",
       "      <td>midnight000</td>\n",
       "      <td>1</td>\n",
       "    </tr>\n",
       "  </tbody>\n",
       "</table>\n",
       "<p>100000 rows × 2 columns</p>\n",
       "</div>"
      ],
      "text/plain": [
       "               password  strength\n",
       "0            yrtzuab476         1\n",
       "1      yEdnN9jc1NgzkkBP         2\n",
       "2              sarita99         1\n",
       "3        Suramerica2015         2\n",
       "4      PPRbMvDIxMQ19TMo         2\n",
       "...                 ...       ...\n",
       "99995         aulona044         1\n",
       "99996       5201314ding         1\n",
       "99997        isaac19725         1\n",
       "99998            toji25         0\n",
       "99999       midnight000         1\n",
       "\n",
       "[100000 rows x 2 columns]"
      ]
     },
     "execution_count": 1,
     "metadata": {},
     "output_type": "execute_result"
    }
   ],
   "source": [
    "import pandas as pd\n",
    "df = pd.read_csv(\"passwords_original.csv\")\n",
    "df"
   ]
  }
 ],
 "metadata": {
  "kernelspec": {
   "display_name": "Python 3 (ipykernel)",
   "language": "python",
   "name": "python3"
  },
  "language_info": {
   "codemirror_mode": {
    "name": "ipython",
    "version": 3
   },
   "file_extension": ".py",
   "mimetype": "text/x-python",
   "name": "python",
   "nbconvert_exporter": "python",
   "pygments_lexer": "ipython3",
   "version": "3.11.5"
  }
 },
 "nbformat": 4,
 "nbformat_minor": 5
}
